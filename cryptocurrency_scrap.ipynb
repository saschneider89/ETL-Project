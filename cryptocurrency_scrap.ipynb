{
 "cells": [
  {
   "cell_type": "code",
   "execution_count": 2,
   "metadata": {},
   "outputs": [],
   "source": [
    "from bs4 import BeautifulSoup\n",
    "import requests\n",
    "import pymongo\n",
    "import pandas_datareader.data as web\n",
    "\n",
    "import datetime as dt\n",
    "\n",
    "from splinter import Browser\n",
    "import pandas as pd\n",
    "import scipy.stats as st\n",
    "from scipy.stats import linregress,pearsonr\n",
    "from webdriver_manager.chrome import ChromeDriverManager"
   ]
  },
  {
   "cell_type": "code",
   "execution_count": null,
   "metadata": {},
   "outputs": [],
   "source": [
    "url = 'https://finance.yahoo.com/'"
   ]
  },
  {
   "cell_type": "code",
   "execution_count": null,
   "metadata": {},
   "outputs": [],
   "source": [
    "response = requests.get(url)"
   ]
  },
  {
   "cell_type": "code",
   "execution_count": null,
   "metadata": {},
   "outputs": [],
   "source": [
    "soup = BeautifulSoup(response.text,'html.parser' )"
   ]
  },
  {
   "cell_type": "code",
   "execution_count": null,
   "metadata": {},
   "outputs": [],
   "source": [
    "print(soup.prettify())"
   ]
  },
  {
   "cell_type": "code",
   "execution_count": null,
   "metadata": {},
   "outputs": [],
   "source": []
  },
  {
   "cell_type": "markdown",
   "metadata": {},
   "source": [
    "# Extract "
   ]
  },
  {
   "cell_type": "markdown",
   "metadata": {},
   "source": [
    "### retrieve data from Yahoo Finance (source one)"
   ]
  },
  {
   "cell_type": "code",
   "execution_count": null,
   "metadata": {},
   "outputs": [],
   "source": [
    "start = dt.datetime(2019,1,1)\n",
    "end = dt.datetime(2021,5,31)\n",
    "cc = 'UNI3-USD'\n",
    "\n",
    "data = web.DataReader(cc, 'yahoo', start, end)\n",
    "#data.to_csv('Resources/data/yahoo/UNI3-USD.csv')\n",
    "   \n",
    "data\n"
   ]
  },
  {
   "cell_type": "code",
   "execution_count": null,
   "metadata": {},
   "outputs": [],
   "source": [
    "start = dt.datetime(2019,1,1)\n",
    "end = dt.datetime(2021,5,31)\n",
    "ccs = ['BNB-USD','BTC-USD','ADA-USD','DOGE-USD','ETH-USD','USDT-USD','USDC-USD','XRP-USD','DOT1-USD']\n",
    "\n",
    "for cc in ccs:\n",
    "    data = web.DataReader(cc, 'yahoo', start, end)\n",
    "    #data.to_csv('Resources/data/yahoo/{}.csv'.format(cc))\n",
    "   \n",
    "data.head()\n"
   ]
  },
  {
   "cell_type": "code",
   "execution_count": null,
   "metadata": {},
   "outputs": [],
   "source": [
    "ADA_path = \"Resources/data/yahoo/ADA-USD.csv\"\n",
    "BNB_path = \"Resources/data/yahoo/BNB-USD.csv\"\n",
    "BTC_path = \"Resources/data/yahoo/BTC-USD.csv\"\n",
    "DOGE_path = \"Resources/data/yahoo/DOGE-USD.csv\"\n",
    "DOT1_path = \"Resources/data/yahoo/DOT1-USD.csv\"\n",
    "ETH_path = \"Resources/data/yahoo/ETH-USD.csv\"\n",
    "UNI3_path = \"Resources/data/yahoo/UNI3-USD.csv\"\n",
    "USDC_path = \"Resources/data/yahoo/USDC-USD.csv\"\n",
    "USDT_path = \"Resources/data/yahoo/USDT-USD.csv\"\n",
    "XRP_path = \"Resources/data/yahoo/XRP-USD.csv\"\n",
    "\n",
    "\n",
    "ADA_Cardano = pd.read_csv(ADA_path)\n",
    "BNB_Binance = pd.read_csv(BNB_path)\n",
    "BTC_Bitcoin = pd.read_csv(BTC_path)\n",
    "DOGE_Dogecoin = pd.read_csv(DOGE_path)\n",
    "DOT1_Polkadot = pd.read_csv(DOT1_path)\n",
    "ETH_Ethereum = pd.read_csv(ETH_path)\n",
    "UNI3_Uniswap = pd.read_csv(UNI3_path)\n",
    "USDC_USDCoin = pd.read_csv(USDC_path)\n",
    "USDT_Tether = pd.read_csv(USDT_path)\n",
    "XRP_XRP = pd.read_csv(XRP_path)\n",
    "\n"
   ]
  },
  {
   "cell_type": "markdown",
   "metadata": {},
   "source": [
    "# Transform"
   ]
  },
  {
   "cell_type": "code",
   "execution_count": null,
   "metadata": {},
   "outputs": [],
   "source": [
    "# add symbol\n",
    "ADA_Cardano.insert(0,'Symbol','ADA')\n",
    "BNB_Binance.insert(0,'Symbol','BNB')\n",
    "BTC_Bitcoin.insert(0,'Symbol','BTC')\n",
    "DOGE_Dogecoin.insert(0,'Symbol','DOGE')\n",
    "DOT1_Polkadot.insert(0,'Symbol','DOT')\n",
    "ETH_Ethereum .insert(0,'Symbol','ETH')\n",
    "UNI3_Uniswap .insert(0,'Symbol','UNI')\n",
    "USDC_USDCoin .insert(0,'Symbol','USDC')\n",
    "USDT_Tether .insert(0,'Symbol','USDT')\n",
    "XRP_XRP.insert(0,'Symbol','XRP')"
   ]
  },
  {
   "cell_type": "code",
   "execution_count": null,
   "metadata": {
    "scrolled": true
   },
   "outputs": [],
   "source": [
    "#Cardano - ADA\n",
    "\n",
    "ADA_Cardano.head()\n"
   ]
  },
  {
   "cell_type": "code",
   "execution_count": null,
   "metadata": {},
   "outputs": [],
   "source": []
  },
  {
   "cell_type": "code",
   "execution_count": null,
   "metadata": {},
   "outputs": [],
   "source": [
    "ADA_Cardano['Date'] =  pd.to_datetime(ADA_Cardano['Date'])\n",
    "ADA_Cardano['Volume']=ADA_Cardano['Volume'].astype({'Volume' :'int32'})\n",
    "ADA_Cardano.info()\n",
    "\n",
    "\n",
    "#ADA_Cardano.to_csv('Resources/output/yahoo/ADA_Cardano.csv', index = False)\n",
    "\n"
   ]
  },
  {
   "cell_type": "code",
   "execution_count": null,
   "metadata": {},
   "outputs": [],
   "source": [
    "#Binance - BNB \n",
    "\n",
    "BNB_Binance['Date'] =  pd.to_datetime(BNB_Binance['Date'])\n",
    "BNB_Binance['Volume']=BNB_Binance['Volume'].astype({'Volume' :'int32'})\n",
    "BNB_Binance.info()\n",
    "\n",
    "\n",
    "BNB_Binance.to_csv('Resources/output/yahoo/BNB_Binance.csv', index = False)\n",
    "BNB_Binance"
   ]
  },
  {
   "cell_type": "code",
   "execution_count": null,
   "metadata": {},
   "outputs": [],
   "source": [
    "#Bitcoin - BTC  \n",
    "\n",
    "\n",
    "BTC_Bitcoin['Date'] =  pd.to_datetime(BTC_Bitcoin['Date'])\n",
    "BTC_Bitcoin['Volume']=BTC_Bitcoin['Volume'].astype({'Volume' :'int32'})\n",
    "BTC_Bitcoin.info()\n",
    "\n",
    "\n",
    "#BTC_Bitcoin.to_csv('Resources/output/yahoo/BTC_Bitcoin.csv', index = False)\n",
    "BTC_Bitcoin\n"
   ]
  },
  {
   "cell_type": "code",
   "execution_count": null,
   "metadata": {},
   "outputs": [],
   "source": [
    "#Dogecoin - DOGE \n",
    "\n",
    "DOGE_Dogecoin['Date'] =  pd.to_datetime(DOGE_Dogecoin['Date'])\n",
    "DOGE_Dogecoin['Volume']=DOGE_Dogecoin['Volume'].astype({'Volume' :'int32'})\n",
    "DOGE_Dogecoin.info()\n",
    "\n",
    "\n",
    "#DOGE_Dogecoin.to_csv('Resources/output/yahoo/DOGE_Dogecoin.csv', index = False)\n",
    "\n",
    "DOGE_Dogecoin\n",
    "\n"
   ]
  },
  {
   "cell_type": "code",
   "execution_count": null,
   "metadata": {},
   "outputs": [],
   "source": [
    "#Polkadot - DOT\n",
    "\n",
    "DOT1_Polkadot['Date'] =  pd.to_datetime(DOT1_Polkadot['Date'])\n",
    "DOT1_Polkadot['Volume']=DOT1_Polkadot['Volume'].astype({'Volume' :'int32'})\n",
    "DOT1_Polkadot.info()\n",
    "\n",
    "\n",
    "#DOT1_Polkadot.to_csv('Resources/output/yahoo/DOT1_Polkadot.csv', index = False)\n",
    "\n",
    "DOT1_Polkadot\n"
   ]
  },
  {
   "cell_type": "code",
   "execution_count": null,
   "metadata": {},
   "outputs": [],
   "source": []
  },
  {
   "cell_type": "code",
   "execution_count": null,
   "metadata": {},
   "outputs": [],
   "source": [
    "#Ethereum - ETH \n",
    "\n",
    "\n",
    "\n",
    "ETH_Ethereum['Date'] =  pd.to_datetime(ETH_Ethereum['Date'])\n",
    "ETH_Ethereum['Volume']= ETH_Ethereum['Volume'].astype({'Volume' :'int32'})\n",
    "ETH_Ethereum.info()\n",
    "\n",
    "\n",
    "#ETH_Ethereum.to_csv('Resources/output/yahoo/ETH_Ethereum.csv', index = False)\n",
    "\n",
    "ETH_Ethereum"
   ]
  },
  {
   "cell_type": "code",
   "execution_count": null,
   "metadata": {},
   "outputs": [],
   "source": [
    "#Tether - USDT\n",
    "\n",
    "USDT_Tether['Date'] =  pd.to_datetime(USDT_Tether['Date'])\n",
    "USDT_Tether['Volume']= USDT_Tether['Volume'].astype({'Volume' :'int32'})\n",
    "USDT_Tether.info()\n",
    "\n",
    "\n",
    "#USDT_Tether.to_csv('Resources/output/yahoo/USDT_Tether.csv', index = False)\n",
    "\n",
    "USDT_Tether"
   ]
  },
  {
   "cell_type": "code",
   "execution_count": null,
   "metadata": {},
   "outputs": [],
   "source": [
    "#Uniswap - UNI\n",
    "UNI3_Uniswap['Date'] =  pd.to_datetime(UNI3_Uniswap['Date'])\n",
    "UNI3_Uniswap['Volume']= UNI3_Uniswap['Volume'].astype({'Volume' :'int32'})\n",
    "UNI3_Uniswap.info()\n",
    "\n",
    "\n",
    "#UNI3_Uniswap.to_csv('Resources/output/yahoo/UNI3_Uniswap.csv', index = False)\n",
    "\n",
    "UNI3_Uniswap"
   ]
  },
  {
   "cell_type": "code",
   "execution_count": null,
   "metadata": {},
   "outputs": [],
   "source": [
    "#USDCoin  - USDC\n",
    "USDC_USDCoin['Date'] =  pd.to_datetime(USDC_USDCoin['Date'])\n",
    "USDC_USDCoin['Volume']= USDC_USDCoin['Volume'].astype({'Volume' :'int32'})\n",
    "USDC_USDCoin.info()\n",
    "\n",
    "\n",
    "#USDC_USDCoin.to_csv('Resources/output/yahoo/USDC_USDCoin.csv', index = False)\n",
    "USDC_USDCoin"
   ]
  },
  {
   "cell_type": "code",
   "execution_count": null,
   "metadata": {},
   "outputs": [],
   "source": [
    "#XRP - XRP\n",
    "XRP_XRP['Date'] =  pd.to_datetime(XRP_XRP['Date'])\n",
    "XRP_XRP['Volume']= XRP_XRP['Volume'].astype({'Volume' :'int32'})\n",
    "XRP_XRP.info()\n",
    "\n",
    "\n",
    "#XRP_XRP.to_csv('Resources/output/yahoo/XRP_XRP.csv', index = False)\n",
    "XRP_XRP"
   ]
  },
  {
   "cell_type": "code",
   "execution_count": null,
   "metadata": {},
   "outputs": [],
   "source": []
  },
  {
   "cell_type": "markdown",
   "metadata": {},
   "source": [
    "# Extract"
   ]
  },
  {
   "cell_type": "markdown",
   "metadata": {},
   "source": [
    "### retrieve data from Fred (source two)"
   ]
  },
  {
   "cell_type": "code",
   "execution_count": null,
   "metadata": {},
   "outputs": [],
   "source": [
    "# To retrieve SP500 Data in past two years\n",
    "\n",
    "start = datetime.datetime(2019,6,11)\n",
    "end = datetime.datetime(2021,6,21)\n",
    "SP500_2019_611_2021_621 = web.DataReader(['SP500'],'fred', start, end)\n",
    "SP500_2019_611_2021_621.dropna()"
   ]
  },
  {
   "cell_type": "code",
   "execution_count": null,
   "metadata": {},
   "outputs": [],
   "source": [
    "# To retrieve the SP500 Data - 2021/05\n",
    "start = datetime.datetime(2021,5,1)\n",
    "end = datetime.datetime(2021,5,31)\n",
    "SP500_2021_05 = web.DataReader(['SP500'],'fred', start, end)\n",
    "SP500_2021_05.dropna()"
   ]
  },
  {
   "cell_type": "code",
   "execution_count": null,
   "metadata": {},
   "outputs": [],
   "source": [
    "# To retrieve the SP500 Data - 2019&2020\n",
    "start = datetime.datetime(2019,1,1)\n",
    "end = datetime.datetime(2020,12,31)\n",
    "SP500_2019_2020 = web.DataReader(['SP500'],'fred', start, end)\n",
    "SP500_2019_2020.dropna()"
   ]
  },
  {
   "cell_type": "code",
   "execution_count": null,
   "metadata": {},
   "outputs": [],
   "source": [
    "#output dataframe to csv file \n",
    "\n",
    "#SP500_df.to_csv(\"Resources/data/sp500/sp500_2019_611_2021_621.csv\",index = False)\n",
    "#SP500_2021_05.to_csv(\"Resources/data/sp500/sp500_2021_05.csv\",index = False)\n",
    "#SP500_2019_2020.to_csv(\"Resources/data/sp500/sp500_2019_2020.csv\",index = False)"
   ]
  },
  {
   "cell_type": "code",
   "execution_count": null,
   "metadata": {},
   "outputs": [],
   "source": []
  },
  {
   "cell_type": "code",
   "execution_count": 17,
   "metadata": {},
   "outputs": [
    {
     "name": "stdout",
     "output_type": "stream",
     "text": [
      "<class 'pandas.core.frame.DataFrame'>\n",
      "RangeIndex: 524 entries, 0 to 523\n",
      "Data columns (total 3 columns):\n",
      " #   Column  Non-Null Count  Dtype         \n",
      "---  ------  --------------  -----         \n",
      " 0   Symbol  524 non-null    object        \n",
      " 1   DATE    524 non-null    datetime64[ns]\n",
      " 2   SP500   506 non-null    float64       \n",
      "dtypes: datetime64[ns](1), float64(1), object(1)\n",
      "memory usage: 12.4+ KB\n"
     ]
    }
   ],
   "source": [
    "sp500_path = \"Resources/data/sp500/sp500_2019_611_2021_621.csv\"\n",
    "sp500_df = pd.read_csv(sp500_path)\n",
    "sp500_df.insert(0,'Symbol','SP500')\n",
    "sp500_df['DATE'] =  pd.to_datetime(sp500_df['DATE'])\n"
   ]
  },
  {
   "cell_type": "code",
   "execution_count": 19,
   "metadata": {},
   "outputs": [
    {
     "name": "stdout",
     "output_type": "stream",
     "text": [
      "<class 'pandas.core.frame.DataFrame'>\n",
      "RangeIndex: 524 entries, 0 to 523\n",
      "Data columns (total 3 columns):\n",
      " #   Column  Non-Null Count  Dtype         \n",
      "---  ------  --------------  -----         \n",
      " 0   Symbol  524 non-null    object        \n",
      " 1   DATE    524 non-null    datetime64[ns]\n",
      " 2   SP500   506 non-null    float64       \n",
      "dtypes: datetime64[ns](1), float64(1), object(1)\n",
      "memory usage: 12.4+ KB\n"
     ]
    },
    {
     "data": {
      "text/html": [
       "<div>\n",
       "<style scoped>\n",
       "    .dataframe tbody tr th:only-of-type {\n",
       "        vertical-align: middle;\n",
       "    }\n",
       "\n",
       "    .dataframe tbody tr th {\n",
       "        vertical-align: top;\n",
       "    }\n",
       "\n",
       "    .dataframe thead th {\n",
       "        text-align: right;\n",
       "    }\n",
       "</style>\n",
       "<table border=\"1\" class=\"dataframe\">\n",
       "  <thead>\n",
       "    <tr style=\"text-align: right;\">\n",
       "      <th></th>\n",
       "      <th>Symbol</th>\n",
       "      <th>DATE</th>\n",
       "      <th>SP500</th>\n",
       "    </tr>\n",
       "  </thead>\n",
       "  <tbody>\n",
       "    <tr>\n",
       "      <th>0</th>\n",
       "      <td>SP500</td>\n",
       "      <td>2019-06-11</td>\n",
       "      <td>2885.72</td>\n",
       "    </tr>\n",
       "    <tr>\n",
       "      <th>1</th>\n",
       "      <td>SP500</td>\n",
       "      <td>2019-06-12</td>\n",
       "      <td>2879.84</td>\n",
       "    </tr>\n",
       "    <tr>\n",
       "      <th>2</th>\n",
       "      <td>SP500</td>\n",
       "      <td>2019-06-13</td>\n",
       "      <td>2891.64</td>\n",
       "    </tr>\n",
       "    <tr>\n",
       "      <th>3</th>\n",
       "      <td>SP500</td>\n",
       "      <td>2019-06-14</td>\n",
       "      <td>2886.98</td>\n",
       "    </tr>\n",
       "    <tr>\n",
       "      <th>4</th>\n",
       "      <td>SP500</td>\n",
       "      <td>2019-06-17</td>\n",
       "      <td>2889.67</td>\n",
       "    </tr>\n",
       "  </tbody>\n",
       "</table>\n",
       "</div>"
      ],
      "text/plain": [
       "  Symbol       DATE    SP500\n",
       "0  SP500 2019-06-11  2885.72\n",
       "1  SP500 2019-06-12  2879.84\n",
       "2  SP500 2019-06-13  2891.64\n",
       "3  SP500 2019-06-14  2886.98\n",
       "4  SP500 2019-06-17  2889.67"
      ]
     },
     "execution_count": 19,
     "metadata": {},
     "output_type": "execute_result"
    }
   ],
   "source": [
    "\n",
    "sp500_df.info()\n",
    "sp500_df.to_csv(\"Resources/output/sp500/sp500.csv\", index = False)\n",
    "\n",
    "\n",
    "\n",
    "sp500_df.head()\n",
    "\n"
   ]
  },
  {
   "cell_type": "code",
   "execution_count": null,
   "metadata": {},
   "outputs": [],
   "source": []
  },
  {
   "cell_type": "code",
   "execution_count": null,
   "metadata": {},
   "outputs": [],
   "source": []
  }
 ],
 "metadata": {
  "kernelspec": {
   "display_name": "Python 3",
   "language": "python",
   "name": "python3"
  },
  "language_info": {
   "codemirror_mode": {
    "name": "ipython",
    "version": 3
   },
   "file_extension": ".py",
   "mimetype": "text/x-python",
   "name": "python",
   "nbconvert_exporter": "python",
   "pygments_lexer": "ipython3",
   "version": "3.8.5"
  }
 },
 "nbformat": 4,
 "nbformat_minor": 4
}
