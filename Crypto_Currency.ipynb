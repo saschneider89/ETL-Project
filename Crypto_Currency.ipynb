{
 "cells": [
  {
   "cell_type": "markdown",
   "metadata": {},
   "source": [
    "## Load Dependencies"
   ]
  },
  {
   "cell_type": "code",
   "execution_count": 1,
   "metadata": {},
   "outputs": [],
   "source": [
    "import pandas as pd\n",
    "from sqlalchemy import create_engine"
   ]
  },
  {
   "cell_type": "markdown",
   "metadata": {},
   "source": [
    "## Extract"
   ]
  },
  {
   "cell_type": "markdown",
   "metadata": {},
   "source": [
    "### Store CSVs into DataFrames"
   ]
  },
  {
   "cell_type": "code",
   "execution_count": 2,
   "metadata": {},
   "outputs": [
    {
     "data": {
      "text/html": [
       "<div>\n",
       "<style scoped>\n",
       "    .dataframe tbody tr th:only-of-type {\n",
       "        vertical-align: middle;\n",
       "    }\n",
       "\n",
       "    .dataframe tbody tr th {\n",
       "        vertical-align: top;\n",
       "    }\n",
       "\n",
       "    .dataframe thead th {\n",
       "        text-align: right;\n",
       "    }\n",
       "</style>\n",
       "<table border=\"1\" class=\"dataframe\">\n",
       "  <thead>\n",
       "    <tr style=\"text-align: right;\">\n",
       "      <th></th>\n",
       "      <th>SNo</th>\n",
       "      <th>Name</th>\n",
       "      <th>Symbol</th>\n",
       "      <th>Date</th>\n",
       "      <th>High</th>\n",
       "      <th>Low</th>\n",
       "      <th>Open</th>\n",
       "      <th>Close</th>\n",
       "      <th>Volume</th>\n",
       "      <th>Marketcap</th>\n",
       "    </tr>\n",
       "  </thead>\n",
       "  <tbody>\n",
       "    <tr>\n",
       "      <th>0</th>\n",
       "      <td>1</td>\n",
       "      <td>Bitcoin</td>\n",
       "      <td>BTC</td>\n",
       "      <td>2013-04-29 23:59:59</td>\n",
       "      <td>147.488007</td>\n",
       "      <td>134.000000</td>\n",
       "      <td>134.444000</td>\n",
       "      <td>144.539993</td>\n",
       "      <td>0.0</td>\n",
       "      <td>1.603769e+09</td>\n",
       "    </tr>\n",
       "    <tr>\n",
       "      <th>1</th>\n",
       "      <td>2</td>\n",
       "      <td>Bitcoin</td>\n",
       "      <td>BTC</td>\n",
       "      <td>2013-04-30 23:59:59</td>\n",
       "      <td>146.929993</td>\n",
       "      <td>134.050003</td>\n",
       "      <td>144.000000</td>\n",
       "      <td>139.000000</td>\n",
       "      <td>0.0</td>\n",
       "      <td>1.542813e+09</td>\n",
       "    </tr>\n",
       "    <tr>\n",
       "      <th>2</th>\n",
       "      <td>3</td>\n",
       "      <td>Bitcoin</td>\n",
       "      <td>BTC</td>\n",
       "      <td>2013-05-01 23:59:59</td>\n",
       "      <td>139.889999</td>\n",
       "      <td>107.720001</td>\n",
       "      <td>139.000000</td>\n",
       "      <td>116.989998</td>\n",
       "      <td>0.0</td>\n",
       "      <td>1.298955e+09</td>\n",
       "    </tr>\n",
       "    <tr>\n",
       "      <th>3</th>\n",
       "      <td>4</td>\n",
       "      <td>Bitcoin</td>\n",
       "      <td>BTC</td>\n",
       "      <td>2013-05-02 23:59:59</td>\n",
       "      <td>125.599998</td>\n",
       "      <td>92.281898</td>\n",
       "      <td>116.379997</td>\n",
       "      <td>105.209999</td>\n",
       "      <td>0.0</td>\n",
       "      <td>1.168517e+09</td>\n",
       "    </tr>\n",
       "    <tr>\n",
       "      <th>4</th>\n",
       "      <td>5</td>\n",
       "      <td>Bitcoin</td>\n",
       "      <td>BTC</td>\n",
       "      <td>2013-05-03 23:59:59</td>\n",
       "      <td>108.127998</td>\n",
       "      <td>79.099998</td>\n",
       "      <td>106.250000</td>\n",
       "      <td>97.750000</td>\n",
       "      <td>0.0</td>\n",
       "      <td>1.085995e+09</td>\n",
       "    </tr>\n",
       "  </tbody>\n",
       "</table>\n",
       "</div>"
      ],
      "text/plain": [
       "   SNo     Name Symbol                 Date        High         Low  \\\n",
       "0    1  Bitcoin    BTC  2013-04-29 23:59:59  147.488007  134.000000   \n",
       "1    2  Bitcoin    BTC  2013-04-30 23:59:59  146.929993  134.050003   \n",
       "2    3  Bitcoin    BTC  2013-05-01 23:59:59  139.889999  107.720001   \n",
       "3    4  Bitcoin    BTC  2013-05-02 23:59:59  125.599998   92.281898   \n",
       "4    5  Bitcoin    BTC  2013-05-03 23:59:59  108.127998   79.099998   \n",
       "\n",
       "         Open       Close  Volume     Marketcap  \n",
       "0  134.444000  144.539993     0.0  1.603769e+09  \n",
       "1  144.000000  139.000000     0.0  1.542813e+09  \n",
       "2  139.000000  116.989998     0.0  1.298955e+09  \n",
       "3  116.379997  105.209999     0.0  1.168517e+09  \n",
       "4  106.250000   97.750000     0.0  1.085995e+09  "
      ]
     },
     "execution_count": 2,
     "metadata": {},
     "output_type": "execute_result"
    }
   ],
   "source": [
    "bitcoin_file = \"Resources/coin_Bitcoin.csv\"\n",
    "ethereum_file = \"Resources/coin_Ethereum.csv\"\n",
    "tether_file = \"Resources/coin_Tether.csv\"\n",
    "binance_coin_file = \"Resources/coin_BinanceCoin.csv\"\n",
    "cardano_file = \"Resources/coin_Cardano.csv\"\n",
    "dogecoin_file = \"Resources/coin_Dogecoin.csv\"\n",
    "xrp_file = \"Resources/coin_XRP.csv\"\n",
    "USD_coin_file = \"Resources/coin_USDCoin.csv\"\n",
    "polkadot_file = \"Resources/coin_Polkadot.csv\"\n",
    "uniswap_file = \"Resources/coin_Uniswap.csv\"\n",
    "bitcoin_df = pd.read_csv(bitcoin_file)\n",
    "ethereum_df = pd.read_csv(ethereum_file)\n",
    "tether_df = pd.read_csv(tether_file)\n",
    "binance_coin_df = pd.read_csv(binance_coin_file)\n",
    "cardano_df = pd.read_csv(cardano_file)\n",
    "dogecoin_df = pd.read_csv(dogecoin_file)\n",
    "xrp_df = pd.read_csv(xrp_file)\n",
    "USD_coin_df = pd.read_csv(USD_coin_file)\n",
    "polkadot_df = pd.read_csv(polkadot_file)\n",
    "uniswap_df = pd.read_csv(uniswap_file)\n",
    "bitcoin_df.head()"
   ]
  },
  {
   "cell_type": "markdown",
   "metadata": {},
   "source": [
    "## Transform"
   ]
  },
  {
   "cell_type": "markdown",
   "metadata": {},
   "source": [
    "### Clean cryptocurrency data and add respective symbols"
   ]
  },
  {
   "cell_type": "code",
   "execution_count": 3,
   "metadata": {},
   "outputs": [
    {
     "data": {
      "text/html": [
       "<div>\n",
       "<style scoped>\n",
       "    .dataframe tbody tr th:only-of-type {\n",
       "        vertical-align: middle;\n",
       "    }\n",
       "\n",
       "    .dataframe tbody tr th {\n",
       "        vertical-align: top;\n",
       "    }\n",
       "\n",
       "    .dataframe thead th {\n",
       "        text-align: right;\n",
       "    }\n",
       "</style>\n",
       "<table border=\"1\" class=\"dataframe\">\n",
       "  <thead>\n",
       "    <tr style=\"text-align: right;\">\n",
       "      <th></th>\n",
       "      <th>SNo</th>\n",
       "      <th>Name</th>\n",
       "      <th>Symbol</th>\n",
       "      <th>Date</th>\n",
       "      <th>High</th>\n",
       "      <th>Low</th>\n",
       "      <th>Open</th>\n",
       "      <th>Close</th>\n",
       "      <th>Volume</th>\n",
       "      <th>Marketcap</th>\n",
       "    </tr>\n",
       "  </thead>\n",
       "  <tbody>\n",
       "    <tr>\n",
       "      <th>0</th>\n",
       "      <td>1</td>\n",
       "      <td>Ethereum</td>\n",
       "      <td>ETH</td>\n",
       "      <td>2015-08-08 23:59:59</td>\n",
       "      <td>2.798810</td>\n",
       "      <td>0.714725</td>\n",
       "      <td>2.793760</td>\n",
       "      <td>0.753325</td>\n",
       "      <td>674188.0</td>\n",
       "      <td>4.548689e+07</td>\n",
       "    </tr>\n",
       "    <tr>\n",
       "      <th>1</th>\n",
       "      <td>2</td>\n",
       "      <td>Ethereum</td>\n",
       "      <td>ETH</td>\n",
       "      <td>2015-08-09 23:59:59</td>\n",
       "      <td>0.879810</td>\n",
       "      <td>0.629191</td>\n",
       "      <td>0.706136</td>\n",
       "      <td>0.701897</td>\n",
       "      <td>532170.0</td>\n",
       "      <td>4.239957e+07</td>\n",
       "    </tr>\n",
       "    <tr>\n",
       "      <th>2</th>\n",
       "      <td>3</td>\n",
       "      <td>Ethereum</td>\n",
       "      <td>ETH</td>\n",
       "      <td>2015-08-10 23:59:59</td>\n",
       "      <td>0.729854</td>\n",
       "      <td>0.636546</td>\n",
       "      <td>0.713989</td>\n",
       "      <td>0.708448</td>\n",
       "      <td>405283.0</td>\n",
       "      <td>4.281836e+07</td>\n",
       "    </tr>\n",
       "    <tr>\n",
       "      <th>3</th>\n",
       "      <td>4</td>\n",
       "      <td>Ethereum</td>\n",
       "      <td>ETH</td>\n",
       "      <td>2015-08-11 23:59:59</td>\n",
       "      <td>1.131410</td>\n",
       "      <td>0.663235</td>\n",
       "      <td>0.708087</td>\n",
       "      <td>1.067860</td>\n",
       "      <td>1463100.0</td>\n",
       "      <td>6.456929e+07</td>\n",
       "    </tr>\n",
       "    <tr>\n",
       "      <th>4</th>\n",
       "      <td>5</td>\n",
       "      <td>Ethereum</td>\n",
       "      <td>ETH</td>\n",
       "      <td>2015-08-12 23:59:59</td>\n",
       "      <td>1.289940</td>\n",
       "      <td>0.883608</td>\n",
       "      <td>1.058750</td>\n",
       "      <td>1.217440</td>\n",
       "      <td>2150620.0</td>\n",
       "      <td>7.364501e+07</td>\n",
       "    </tr>\n",
       "  </tbody>\n",
       "</table>\n",
       "</div>"
      ],
      "text/plain": [
       "   SNo      Name Symbol                 Date      High       Low      Open  \\\n",
       "0    1  Ethereum    ETH  2015-08-08 23:59:59  2.798810  0.714725  2.793760   \n",
       "1    2  Ethereum    ETH  2015-08-09 23:59:59  0.879810  0.629191  0.706136   \n",
       "2    3  Ethereum    ETH  2015-08-10 23:59:59  0.729854  0.636546  0.713989   \n",
       "3    4  Ethereum    ETH  2015-08-11 23:59:59  1.131410  0.663235  0.708087   \n",
       "4    5  Ethereum    ETH  2015-08-12 23:59:59  1.289940  0.883608  1.058750   \n",
       "\n",
       "      Close     Volume     Marketcap  \n",
       "0  0.753325   674188.0  4.548689e+07  \n",
       "1  0.701897   532170.0  4.239957e+07  \n",
       "2  0.708448   405283.0  4.281836e+07  \n",
       "3  1.067860  1463100.0  6.456929e+07  \n",
       "4  1.217440  2150620.0  7.364501e+07  "
      ]
     },
     "execution_count": 3,
     "metadata": {},
     "output_type": "execute_result"
    }
   ],
   "source": [
    "ethereum_df.head()"
   ]
  },
  {
   "cell_type": "code",
   "execution_count": 4,
   "metadata": {},
   "outputs": [],
   "source": [
    "#Add currency symbols to dataframe (Old CSV Files)\n",
    "#bitcoin_df.insert(0,'Symbol', 'BTC')\n",
    "#ethereum_df.insert(0,'Symbol', 'ETH')\n",
    "#tether_df.insert(0,'Symbol', 'USDT')\n",
    "#binance_coin_df.insert(0,'Symbol', 'BNB')\n",
    "#cardano_df.insert(0,'Symbol', 'ADA')\n",
    "#dogecoin_df.insert(0,'Symbol', 'DOGE')\n",
    "#xrp_df.insert(0,'Symbol', 'XRP')\n",
    "#USD_coin_df.insert(0,'Symbol', 'USDC')\n",
    "#polkadot_df.insert(0,'Symbol', 'DOT')\n",
    "#uniswap_df.insert(0,'Symbol', 'UNI')\n"
   ]
  },
  {
   "cell_type": "markdown",
   "metadata": {},
   "source": [
    "### Check Data Types"
   ]
  },
  {
   "cell_type": "code",
   "execution_count": 4,
   "metadata": {},
   "outputs": [
    {
     "name": "stdout",
     "output_type": "stream",
     "text": [
      "<class 'pandas.core.frame.DataFrame'>\n",
      "RangeIndex: 2862 entries, 0 to 2861\n",
      "Data columns (total 10 columns):\n",
      " #   Column     Non-Null Count  Dtype  \n",
      "---  ------     --------------  -----  \n",
      " 0   SNo        2862 non-null   int64  \n",
      " 1   Name       2862 non-null   object \n",
      " 2   Symbol     2862 non-null   object \n",
      " 3   Date       2862 non-null   object \n",
      " 4   High       2862 non-null   float64\n",
      " 5   Low        2862 non-null   float64\n",
      " 6   Open       2862 non-null   float64\n",
      " 7   Close      2862 non-null   float64\n",
      " 8   Volume     2862 non-null   float64\n",
      " 9   Marketcap  2862 non-null   float64\n",
      "dtypes: float64(6), int64(1), object(3)\n",
      "memory usage: 223.7+ KB\n"
     ]
    }
   ],
   "source": [
    "bitcoin_df.info()"
   ]
  },
  {
   "cell_type": "markdown",
   "metadata": {},
   "source": [
    "### Convert Date to datetime"
   ]
  },
  {
   "cell_type": "code",
   "execution_count": 8,
   "metadata": {},
   "outputs": [],
   "source": [
    "bitcoin_df['Date']=pd.to_datetime(bitcoin_df['Date'])\n",
    "ethereum_df['Date']=pd.to_datetime(ethereum_df['Date'])\n",
    "tether_df['Date']=pd.to_datetime(tether_df['Date'])\n",
    "binance_coin_df['Date']=pd.to_datetime(binance_coin_df['Date'])\n",
    "cardano_df['Date']=pd.to_datetime(cardano_df['Date'])\n",
    "dogecoin_df['Date']=pd.to_datetime(dogecoin_df['Date'])\n",
    "xrp_df['Date']=pd.to_datetime(xrp_df['Date'])\n",
    "USD_coin_df['Date']=pd.to_datetime(USD_coin_df['Date'])\n",
    "polkadot_df['Date']=pd.to_datetime(polkadot_df['Date'])\n",
    "uniswap_df['Date']=pd.to_datetime(uniswap_df['Date'])"
   ]
  },
  {
   "cell_type": "markdown",
   "metadata": {},
   "source": [
    "### Convert float64 to int"
   ]
  },
  {
   "cell_type": "code",
   "execution_count": 16,
   "metadata": {},
   "outputs": [],
   "source": [
    "bitcoin_df[['High','Low','Open','Close','Volume','Marketcap']] = bitcoin_df[['High','Low','Open','Close','Volume','Marketcap']].astype(int)\n",
    "ethereum_df[['High','Low','Open','Close','Volume','Marketcap']] = bitcoin_df[['High','Low','Open','Close','Volume','Marketcap']].astype(int)\n",
    "tether_df[['High','Low','Open','Close','Volume','Marketcap']] = bitcoin_df[['High','Low','Open','Close','Volume','Marketcap']].astype(int)\n",
    "binance_coin_df[['High','Low','Open','Close','Volume','Marketcap']] = bitcoin_df[['High','Low','Open','Close','Volume','Marketcap']].astype(int)\n",
    "cardano_df[['High','Low','Open','Close','Volume','Marketcap']] = bitcoin_df[['High','Low','Open','Close','Volume','Marketcap']].astype(int)\n",
    "dogecoin_df[['High','Low','Open','Close','Volume','Marketcap']] = bitcoin_df[['High','Low','Open','Close','Volume','Marketcap']].astype(int)\n",
    "xrp_df[['High','Low','Open','Close','Volume','Marketcap']] = bitcoin_df[['High','Low','Open','Close','Volume','Marketcap']].astype(int)\n",
    "USD_coin_df[['High','Low','Open','Close','Volume','Marketcap']] = bitcoin_df[['High','Low','Open','Close','Volume','Marketcap']].astype(int)\n",
    "polkadot_df[['High','Low','Open','Close','Volume','Marketcap']] = bitcoin_df[['High','Low','Open','Close','Volume','Marketcap']].astype(int)\n",
    "uniswap_df[['High','Low','Open','Close','Volume','Marketcap']] = bitcoin_df[['High','Low','Open','Close','Volume','Marketcap']].astype(int)\n"
   ]
  },
  {
   "cell_type": "markdown",
   "metadata": {},
   "source": [
    "### Select DF Columns to Import\n"
   ]
  },
  {
   "cell_type": "code",
   "execution_count": 17,
   "metadata": {},
   "outputs": [
    {
     "data": {
      "text/html": [
       "<div>\n",
       "<style scoped>\n",
       "    .dataframe tbody tr th:only-of-type {\n",
       "        vertical-align: middle;\n",
       "    }\n",
       "\n",
       "    .dataframe tbody tr th {\n",
       "        vertical-align: top;\n",
       "    }\n",
       "\n",
       "    .dataframe thead th {\n",
       "        text-align: right;\n",
       "    }\n",
       "</style>\n",
       "<table border=\"1\" class=\"dataframe\">\n",
       "  <thead>\n",
       "    <tr style=\"text-align: right;\">\n",
       "      <th></th>\n",
       "      <th>Symbol</th>\n",
       "      <th>Date</th>\n",
       "      <th>High</th>\n",
       "      <th>Low</th>\n",
       "      <th>Open</th>\n",
       "      <th>Close</th>\n",
       "      <th>Volume</th>\n",
       "      <th>Marketcap</th>\n",
       "    </tr>\n",
       "  </thead>\n",
       "  <tbody>\n",
       "    <tr>\n",
       "      <th>0</th>\n",
       "      <td>UNI</td>\n",
       "      <td>2020-09-18 23:59:59</td>\n",
       "      <td>147</td>\n",
       "      <td>134</td>\n",
       "      <td>134</td>\n",
       "      <td>144</td>\n",
       "      <td>0</td>\n",
       "      <td>1603768864</td>\n",
       "    </tr>\n",
       "    <tr>\n",
       "      <th>1</th>\n",
       "      <td>UNI</td>\n",
       "      <td>2020-09-19 23:59:59</td>\n",
       "      <td>146</td>\n",
       "      <td>134</td>\n",
       "      <td>144</td>\n",
       "      <td>139</td>\n",
       "      <td>0</td>\n",
       "      <td>1542813125</td>\n",
       "    </tr>\n",
       "    <tr>\n",
       "      <th>2</th>\n",
       "      <td>UNI</td>\n",
       "      <td>2020-09-20 23:59:59</td>\n",
       "      <td>139</td>\n",
       "      <td>107</td>\n",
       "      <td>139</td>\n",
       "      <td>116</td>\n",
       "      <td>0</td>\n",
       "      <td>1298954593</td>\n",
       "    </tr>\n",
       "    <tr>\n",
       "      <th>3</th>\n",
       "      <td>UNI</td>\n",
       "      <td>2020-09-21 23:59:59</td>\n",
       "      <td>125</td>\n",
       "      <td>92</td>\n",
       "      <td>116</td>\n",
       "      <td>105</td>\n",
       "      <td>0</td>\n",
       "      <td>1168517495</td>\n",
       "    </tr>\n",
       "    <tr>\n",
       "      <th>4</th>\n",
       "      <td>UNI</td>\n",
       "      <td>2020-09-22 23:59:59</td>\n",
       "      <td>108</td>\n",
       "      <td>79</td>\n",
       "      <td>106</td>\n",
       "      <td>97</td>\n",
       "      <td>0</td>\n",
       "      <td>1085995168</td>\n",
       "    </tr>\n",
       "  </tbody>\n",
       "</table>\n",
       "</div>"
      ],
      "text/plain": [
       "  Symbol                Date  High  Low  Open  Close  Volume   Marketcap\n",
       "0    UNI 2020-09-18 23:59:59   147  134   134    144       0  1603768864\n",
       "1    UNI 2020-09-19 23:59:59   146  134   144    139       0  1542813125\n",
       "2    UNI 2020-09-20 23:59:59   139  107   139    116       0  1298954593\n",
       "3    UNI 2020-09-21 23:59:59   125   92   116    105       0  1168517495\n",
       "4    UNI 2020-09-22 23:59:59   108   79   106     97       0  1085995168"
      ]
     },
     "execution_count": 17,
     "metadata": {},
     "output_type": "execute_result"
    }
   ],
   "source": [
    "bitcoin_df2 = bitcoin_df[[\"Symbol\",\"Date\",\"High\",\"Low\",\"Open\",\"Close\",\"Volume\",\"Marketcap\"]]\n",
    "ethereum_df2 = ethereum_df[[\"Symbol\",\"Date\",\"High\",\"Low\",\"Open\",\"Close\",\"Volume\",\"Marketcap\"]]\n",
    "tether_df2 = tether_df[[\"Symbol\",\"Date\",\"High\",\"Low\",\"Open\",\"Close\",\"Volume\",\"Marketcap\"]]\n",
    "binance_coin_df2 = binance_coin_df[[\"Symbol\",\"Date\",\"High\",\"Low\",\"Open\",\"Close\",\"Volume\",\"Marketcap\"]]\n",
    "cardano_df2 = cardano_df[[\"Symbol\",\"Date\",\"High\",\"Low\",\"Open\",\"Close\",\"Volume\",\"Marketcap\"]]\n",
    "dogecoin_df2 = dogecoin_df[[\"Symbol\",\"Date\",\"High\",\"Low\",\"Open\",\"Close\",\"Volume\",\"Marketcap\"]]\n",
    "xrp_df2 = xrp_df[[\"Symbol\",\"Date\",\"High\",\"Low\",\"Open\",\"Close\",\"Volume\",\"Marketcap\"]]\n",
    "USD_coin_df2 = USD_coin_df[[\"Symbol\",\"Date\",\"High\",\"Low\",\"Open\",\"Close\",\"Volume\",\"Marketcap\"]]\n",
    "polkadot_df2 = polkadot_df[[\"Symbol\",\"Date\",\"High\",\"Low\",\"Open\",\"Close\",\"Volume\",\"Marketcap\"]]\n",
    "uniswap_df2 = uniswap_df[[\"Symbol\",\"Date\",\"High\",\"Low\",\"Open\",\"Close\",\"Volume\",\"Marketcap\"]]\n",
    "uniswap_df2.head()"
   ]
  },
  {
   "cell_type": "code",
   "execution_count": 18,
   "metadata": {},
   "outputs": [
    {
     "name": "stdout",
     "output_type": "stream",
     "text": [
      "<class 'pandas.core.frame.DataFrame'>\n",
      "RangeIndex: 2862 entries, 0 to 2861\n",
      "Data columns (total 8 columns):\n",
      " #   Column     Non-Null Count  Dtype         \n",
      "---  ------     --------------  -----         \n",
      " 0   Symbol     2862 non-null   object        \n",
      " 1   Date       2862 non-null   datetime64[ns]\n",
      " 2   High       2862 non-null   int32         \n",
      " 3   Low        2862 non-null   int32         \n",
      " 4   Open       2862 non-null   int32         \n",
      " 5   Close      2862 non-null   int32         \n",
      " 6   Volume     2862 non-null   int32         \n",
      " 7   Marketcap  2862 non-null   int32         \n",
      "dtypes: datetime64[ns](1), int32(6), object(1)\n",
      "memory usage: 111.9+ KB\n"
     ]
    }
   ],
   "source": [
    "bitcoin_df2.info()"
   ]
  },
  {
   "cell_type": "markdown",
   "metadata": {},
   "source": [
    "## Load"
   ]
  },
  {
   "cell_type": "markdown",
   "metadata": {},
   "source": [
    "### Connect to local database"
   ]
  },
  {
   "cell_type": "code",
   "execution_count": 19,
   "metadata": {},
   "outputs": [],
   "source": [
    "rds_connection_string = \"postgres:postgres@localhost:5432/ETL_Project\"\n",
    "engine = create_engine(f'postgresql://{rds_connection_string}')"
   ]
  },
  {
   "cell_type": "markdown",
   "metadata": {},
   "source": [
    "### Check for tables"
   ]
  },
  {
   "cell_type": "code",
   "execution_count": 20,
   "metadata": {},
   "outputs": [
    {
     "data": {
      "text/plain": [
       "['cryptocurrency']"
      ]
     },
     "execution_count": 20,
     "metadata": {},
     "output_type": "execute_result"
    }
   ],
   "source": [
    " engine.table_names()"
   ]
  },
  {
   "cell_type": "markdown",
   "metadata": {},
   "source": [
    "### Use pandas to load csv converted DataFrame into database"
   ]
  },
  {
   "cell_type": "code",
   "execution_count": 24,
   "metadata": {},
   "outputs": [],
   "source": [
    "bitcoin_df2.to_sql(name='cryptocurrency', con=engine, if_exists='append', index=False)\n",
    "ethereum_df2.to_sql(name='cryptocurrency', con=engine, if_exists='append', index=False)\n",
    "tether_df2.to_sql(name='cryptocurrency', con=engine, if_exists='append', index=False)\n",
    "binance_coin_df2.to_sql(name='cryptocurrency', con=engine, if_exists='append', index=False)\n",
    "cardano_df2.to_sql(name='cryptocurrency', con=engine, if_exists='append', index=False)\n",
    "dogecoin_df2.to_sql(name='cryptocurrency', con=engine, if_exists='append', index=False)\n",
    "xrp_df2.to_sql(name='cryptocurrency', con=engine, if_exists='append', index=False)\n",
    "USD_coin_df2.to_sql(name='cryptocurrency', con=engine, if_exists='append', index=False)\n",
    "polkadot_df2.to_sql(name='cryptocurrency', con=engine, if_exists='append', index=False)\n",
    "uniswap_df2.to_sql(name='cryptocurrency', con=engine, if_exists='append', index=False)"
   ]
  },
  {
   "cell_type": "markdown",
   "metadata": {},
   "source": [
    "### Confirm data has been added by querying the tables"
   ]
  },
  {
   "cell_type": "code",
   "execution_count": 28,
   "metadata": {},
   "outputs": [
    {
     "data": {
      "text/html": [
       "<div>\n",
       "<style scoped>\n",
       "    .dataframe tbody tr th:only-of-type {\n",
       "        vertical-align: middle;\n",
       "    }\n",
       "\n",
       "    .dataframe tbody tr th {\n",
       "        vertical-align: top;\n",
       "    }\n",
       "\n",
       "    .dataframe thead th {\n",
       "        text-align: right;\n",
       "    }\n",
       "</style>\n",
       "<table border=\"1\" class=\"dataframe\">\n",
       "  <thead>\n",
       "    <tr style=\"text-align: right;\">\n",
       "      <th></th>\n",
       "      <th>Symbol</th>\n",
       "      <th>Date</th>\n",
       "      <th>High</th>\n",
       "      <th>Low</th>\n",
       "      <th>Open</th>\n",
       "      <th>Close</th>\n",
       "      <th>Volume</th>\n",
       "      <th>Marketcap</th>\n",
       "    </tr>\n",
       "  </thead>\n",
       "  <tbody>\n",
       "    <tr>\n",
       "      <th>0</th>\n",
       "      <td>BTC</td>\n",
       "      <td>2013-04-29 23:59:59</td>\n",
       "      <td>147</td>\n",
       "      <td>134</td>\n",
       "      <td>134</td>\n",
       "      <td>144</td>\n",
       "      <td>0</td>\n",
       "      <td>1603768864</td>\n",
       "    </tr>\n",
       "    <tr>\n",
       "      <th>1</th>\n",
       "      <td>BTC</td>\n",
       "      <td>2013-04-30 23:59:59</td>\n",
       "      <td>146</td>\n",
       "      <td>134</td>\n",
       "      <td>144</td>\n",
       "      <td>139</td>\n",
       "      <td>0</td>\n",
       "      <td>1542813125</td>\n",
       "    </tr>\n",
       "    <tr>\n",
       "      <th>2</th>\n",
       "      <td>BTC</td>\n",
       "      <td>2013-05-01 23:59:59</td>\n",
       "      <td>139</td>\n",
       "      <td>107</td>\n",
       "      <td>139</td>\n",
       "      <td>116</td>\n",
       "      <td>0</td>\n",
       "      <td>1298954593</td>\n",
       "    </tr>\n",
       "    <tr>\n",
       "      <th>3</th>\n",
       "      <td>BTC</td>\n",
       "      <td>2013-05-02 23:59:59</td>\n",
       "      <td>125</td>\n",
       "      <td>92</td>\n",
       "      <td>116</td>\n",
       "      <td>105</td>\n",
       "      <td>0</td>\n",
       "      <td>1168517495</td>\n",
       "    </tr>\n",
       "    <tr>\n",
       "      <th>4</th>\n",
       "      <td>BTC</td>\n",
       "      <td>2013-05-03 23:59:59</td>\n",
       "      <td>108</td>\n",
       "      <td>79</td>\n",
       "      <td>106</td>\n",
       "      <td>97</td>\n",
       "      <td>0</td>\n",
       "      <td>1085995168</td>\n",
       "    </tr>\n",
       "  </tbody>\n",
       "</table>\n",
       "</div>"
      ],
      "text/plain": [
       "  Symbol                Date  High  Low  Open  Close  Volume   Marketcap\n",
       "0    BTC 2013-04-29 23:59:59   147  134   134    144       0  1603768864\n",
       "1    BTC 2013-04-30 23:59:59   146  134   144    139       0  1542813125\n",
       "2    BTC 2013-05-01 23:59:59   139  107   139    116       0  1298954593\n",
       "3    BTC 2013-05-02 23:59:59   125   92   116    105       0  1168517495\n",
       "4    BTC 2013-05-03 23:59:59   108   79   106     97       0  1085995168"
      ]
     },
     "execution_count": 28,
     "metadata": {},
     "output_type": "execute_result"
    }
   ],
   "source": [
    "pd.read_sql_query('select * from cryptocurrency', con=engine).head()"
   ]
  },
  {
   "cell_type": "code",
   "execution_count": null,
   "metadata": {},
   "outputs": [],
   "source": []
  }
 ],
 "metadata": {
  "kernelspec": {
   "display_name": "Python 3",
   "language": "python",
   "name": "python3"
  },
  "language_info": {
   "codemirror_mode": {
    "name": "ipython",
    "version": 3
   },
   "file_extension": ".py",
   "mimetype": "text/x-python",
   "name": "python",
   "nbconvert_exporter": "python",
   "pygments_lexer": "ipython3",
   "version": "3.8.5"
  }
 },
 "nbformat": 4,
 "nbformat_minor": 4
}
