{
 "cells": [
  {
   "cell_type": "code",
   "execution_count": null,
   "metadata": {},
   "outputs": [],
   "source": [
    "import pandas as pd\n",
    "from datetime import datetime as dt\n",
    "import scipy.stats as st\n",
    "from scipy.stats import linregress,pearsonr\n",
    "\n",
    "\n"
   ]
  },
  {
   "cell_type": "code",
   "execution_count": null,
   "metadata": {},
   "outputs": [],
   "source": [
    "# Study data files\n",
    "\n",
    "Binance_coin_path = \"Resources/data/coin_BinanceCoin.csv\"\n",
    "Bitcoin_coin_path = \"Resources/data/coin_Bitcoin.csv\"\n",
    "Cardano_coin_path = \"Resources/data/coin_Cardano.csv\"\n",
    "Dogecoin_coin_path = \"Resources/data/coin_Dogecoin.csv\"\n",
    "Ethereum_coin_path = \"Resources/data/coin_Ethereum.csv\"\n",
    "Polkadot_coin_path = \"Resources/data/coin_Polkadot.csv\"\n",
    "Tether_coin_path = \"Resources/data/coin_Tether.csv\"\n",
    "Uniswap_coin_path = \"Resources/data/coin_Uniswap.csv\"\n",
    "USDCoin_coin_path = \"Resources/data/coin_USDCoin.csv\"\n",
    "XRP_coin_path = \"Resources/data/coin_XRP.csv\"\n",
    "\n",
    "\n",
    "# Read the cryptocurrency data and the study results\n",
    "\n",
    "Binance_coin = pd.read_csv(Binance_coin_path)\n",
    "Bitcoin_coin = pd.read_csv(Bitcoin_coin_path)\n",
    "Cardano_coin = pd.read_csv(Cardano_coin_path)\n",
    "Dogecoin_coin = pd.read_csv(Dogecoin_coin_path)\n",
    "Ethereum_coin = pd.read_csv(Ethereum_coin_path)\n",
    "Polkadot_coin = pd.read_csv(Polkadot_coin_path)\n",
    "Tether_coin = pd.read_csv(Tether_coin_path)\n",
    "Uniswap_coin = pd.read_csv(Uniswap_coin_path)\n",
    "USDCoin_coin = pd.read_csv( USDCoin_coin_path)\n",
    "XRP_coin = pd.read_csv(XRP_coin_path)\n",
    "\n"
   ]
  },
  {
   "cell_type": "code",
   "execution_count": null,
   "metadata": {},
   "outputs": [],
   "source": [
    "#Bitcoin_coin - BTC  \n",
    "#Clean up data\n",
    "\n",
    "Bitcoin_coin = Bitcoin_coin.drop(columns = {'SNo', 'Name'})\n",
    "Bitcoin_coin['Volume']=Bitcoin_coin['Volume'].apply(lambda x:'{:.2f}'.format(x))\n",
    "Bitcoin_coin['Marketcap']=Bitcoin_coin['Marketcap'].apply(lambda x:'{:.2f}'.format(x))\n",
    "Bitcoin_coin[['High', 'Low', 'Open', 'Close']]= Bitcoin_coin[['High', 'Low', 'Open', 'Close']].round(2)"
   ]
  },
  {
   "cell_type": "code",
   "execution_count": null,
   "metadata": {},
   "outputs": [],
   "source": [
    "Bitcoin_coin.head()"
   ]
  },
  {
   "cell_type": "code",
   "execution_count": null,
   "metadata": {},
   "outputs": [],
   "source": [
    "Start = '2019-06-11'\n",
    "End = '2021-06-21'\n",
    "\n",
    "Bitcoin_coin['Date']= pd.to_datetime(Bitcoin_coin['Date'], dayfirst=True)\n",
    "Bitcoin_coin ['Date'] = pd.to_datetime(Bitcoin_coin['Date'].dt.strftime('%Y-%m'))\n",
    "BTC_data = (Bitcoin_coin['Date']> Start) & (Bitcoin_coin['Date'] <= End) \n",
    "BTC = Bitcoin_coin.loc[BTC_data]\n",
    "BTC"
   ]
  },
  {
   "cell_type": "code",
   "execution_count": null,
   "metadata": {},
   "outputs": [],
   "source": [
    "BTC.groupby(\"Date\").mean()"
   ]
  },
  {
   "cell_type": "code",
   "execution_count": null,
   "metadata": {},
   "outputs": [],
   "source": [
    "#Ethereum_coin - ETH \n",
    "\n",
    "Ethereum_coin=Ethereum_coin.drop(columns = {'SNo', 'Name'})\n",
    "Ethereum_coin['Volume']=Ethereum_coin['Volume'].apply(lambda x:'{:.2f}'.format(x))\n",
    "Ethereum_coin['Marketcap']=Ethereum_coin['Marketcap'].apply(lambda x:'{:.2f}'.format(x))\n",
    "Ethereum_coin[['High', 'Low', 'Open', 'Close']]= Ethereum_coin[['High', 'Low', 'Open', 'Close']].round(2)"
   ]
  },
  {
   "cell_type": "code",
   "execution_count": null,
   "metadata": {},
   "outputs": [],
   "source": [
    "Start = '2019-06-11'\n",
    "End = '2021-06-21'\n",
    "Ethereum_coin['Date']= pd.to_datetime(Ethereum_coin['Date'], dayfirst=True)\n",
    "Ethereum_coin ['Date'] = pd.to_datetime(Ethereum_coin['Date'].dt.strftime('%Y-%m'))\n",
    "ETH_data = (Ethereum_coin['Date']> Start) & (Ethereum_coin['Date'] <= End) \n",
    "ETH = Ethereum_coin.loc[ETH_data]\n",
    "ETH\n",
    "\n"
   ]
  },
  {
   "cell_type": "code",
   "execution_count": null,
   "metadata": {},
   "outputs": [],
   "source": [
    "ETH.groupby(\"Date\").mean()"
   ]
  },
  {
   "cell_type": "code",
   "execution_count": null,
   "metadata": {},
   "outputs": [],
   "source": [
    "#Tether_coin - USDT\n",
    "\n",
    "Tether_coin=Tether_coin.drop(columns = {'SNo', 'Name'})\n",
    "Tether_coin['Volume']=Tether_coin['Volume'].apply(lambda x:'{:.2f}'.format(x))\n",
    "Tether_coin['Marketcap']=Tether_coin['Marketcap'].apply(lambda x:'{:.2f}'.format(x))\n",
    "Tether_coin[['High', 'Low', 'Open', 'Close']]= Tether_coin[['High', 'Low', 'Open', 'Close']].round(2)"
   ]
  },
  {
   "cell_type": "code",
   "execution_count": null,
   "metadata": {},
   "outputs": [],
   "source": [
    "Start = '2019-06-11'\n",
    "End = '2021-06-21'\n",
    "Tether_coin['Date']= pd.to_datetime(Tether_coin['Date'], dayfirst=True)\n",
    "Tether_coin ['Date'] = pd.to_datetime(Tether_coin['Date'].dt.strftime('%Y-%m'))\n",
    "\n",
    "USDT_data = (Tether_coin['Date']> Start) & (Tether_coin['Date'] <= End) \n",
    "USDT = Tether_coin.loc[USDT_data]\n",
    "USDT"
   ]
  },
  {
   "cell_type": "code",
   "execution_count": null,
   "metadata": {},
   "outputs": [],
   "source": [
    "USDT.groupby(\"Date\").mean()"
   ]
  },
  {
   "cell_type": "code",
   "execution_count": null,
   "metadata": {},
   "outputs": [],
   "source": [
    "#Binance_coin - BNB \n",
    "\n",
    "Binance_coin=Binance_coin.drop(columns = {'SNo', 'Name'})\n",
    "Binance_coin['Volume']=Binance_coin['Volume'].apply(lambda x:'{:.2f}'.format(x))\n",
    "Binance_coin['Marketcap']=Binance_coin['Marketcap'].apply(lambda x:'{:.2f}'.format(x))\n",
    "Binance_coin[['High', 'Low', 'Open', 'Close']]= Binance_coin[['High', 'Low', 'Open', 'Close']].round(2)"
   ]
  },
  {
   "cell_type": "code",
   "execution_count": null,
   "metadata": {},
   "outputs": [],
   "source": [
    "Start = '2019-06-11'\n",
    "End = '2021-06-21'\n",
    "Binance_coin['Date']= pd.to_datetime(Binance_coin['Date'], dayfirst=True)\n",
    "Binance_coin ['Date'] = pd.to_datetime(Binance_coin['Date'].dt.strftime('%Y-%m'))\n",
    "BNB_data = (Binance_coin['Date']> Start) & (Binance_coin['Date'] <= End) \n",
    "BNB = Binance_coin.loc[BNB_data]\n",
    "BNB"
   ]
  },
  {
   "cell_type": "code",
   "execution_count": null,
   "metadata": {},
   "outputs": [],
   "source": [
    "BNB.groupby(\"Date\").mean()"
   ]
  },
  {
   "cell_type": "code",
   "execution_count": null,
   "metadata": {},
   "outputs": [],
   "source": [
    "#Cardano_coin - ADA\n",
    "Cardano_coin=Cardano_coin.drop(columns = {'SNo', 'Name'})\n",
    "Cardano_coin['Volume']=Cardano_coin['Volume'].apply(lambda x:'{:.2f}'.format(x))\n",
    "Cardano_coin['Marketcap']=Cardano_coin['Marketcap'].apply(lambda x:'{:.2f}'.format(x))\n",
    "Cardano_coin[['High', 'Low', 'Open', 'Close']]= Cardano_coin[['High', 'Low', 'Open', 'Close']].round(2)\n"
   ]
  },
  {
   "cell_type": "code",
   "execution_count": null,
   "metadata": {},
   "outputs": [],
   "source": [
    "Start = '2019-06-11'\n",
    "End = '2021-06-21'\n",
    "Cardano_coin ['Date'] = pd.to_datetime(Cardano_coin['Date'], dayfirst=True)\n",
    "\n",
    "Cardano_coin ['Date'] = pd.to_datetime(Cardano_coin['Date'].dt.strftime('%Y-%m'))\n",
    "\n",
    "ADA_data = (Cardano_coin['Date']> Start) & (Cardano_coin['Date'] <= End) \n",
    "ADA = Cardano_coin.loc[ADA_data]\n",
    "ADA"
   ]
  },
  {
   "cell_type": "code",
   "execution_count": null,
   "metadata": {},
   "outputs": [],
   "source": [
    "ADA.groupby(\"Date\").mean()"
   ]
  },
  {
   "cell_type": "code",
   "execution_count": null,
   "metadata": {},
   "outputs": [],
   "source": [
    "#Dogecoin_coin - DOGE \n",
    "Dogecoin_coin=Dogecoin_coin.drop(columns = {'SNo', 'Name'})\n",
    "Dogecoin_coin['Volume']=Dogecoin_coin['Volume'].apply(lambda x:'{:.2f}'.format(x))\n",
    "Dogecoin_coin['Marketcap']=Dogecoin_coin['Marketcap'].apply(lambda x:'{:.2f}'.format(x))\n",
    "Dogecoin_coin[['High', 'Low', 'Open', 'Close']]= Dogecoin_coin[['High', 'Low', 'Open', 'Close']].round(2)"
   ]
  },
  {
   "cell_type": "code",
   "execution_count": null,
   "metadata": {},
   "outputs": [],
   "source": [
    "Start = '2019-06-11'\n",
    "End = '2021-06-21'\n",
    "Dogecoin_coin['Date']= pd.to_datetime(Dogecoin_coin['Date'], dayfirst=True)\n",
    "Dogecoin_coin ['Date'] = pd.to_datetime(Dogecoin_coin['Date'].dt.strftime('%Y-%m'))\n",
    "\n",
    "DOGE_data = (Dogecoin_coin['Date']> Start) & (Dogecoin_coin['Date'] <= End) \n",
    "DOGE= Dogecoin_coin.loc[DOGE_data]\n",
    "DOGE"
   ]
  },
  {
   "cell_type": "code",
   "execution_count": null,
   "metadata": {},
   "outputs": [],
   "source": [
    "DOGE.groupby(\"Date\").mean()"
   ]
  },
  {
   "cell_type": "code",
   "execution_count": null,
   "metadata": {},
   "outputs": [],
   "source": [
    "#XRP_coin - XRP\n",
    "XRP_coin=XRP_coin.drop(columns = {'SNo', 'Name'})\n",
    "XRP_coin['Volume']=XRP_coin['Volume'].apply(lambda x:'{:.2f}'.format(x))\n",
    "XRP_coin['Marketcap']=XRP_coin['Marketcap'].apply(lambda x:'{:.2f}'.format(x))\n",
    "XRP_coin[['High', 'Low', 'Open', 'Close']]= XRP_coin[['High', 'Low', 'Open', 'Close']].round(2)"
   ]
  },
  {
   "cell_type": "code",
   "execution_count": null,
   "metadata": {},
   "outputs": [],
   "source": [
    "Start = '2019-06-11'\n",
    "End = '2021-06-21'\n",
    "XRP_coin['Date']= pd.to_datetime(XRP_coin['Date'], dayfirst=True)\n",
    "XRP_coin ['Date'] = pd.to_datetime(XRP_coin['Date'].dt.strftime('%Y-%m'))\n",
    "\n",
    "XRP_data = (XRP_coin['Date']> Start) & (XRP_coin['Date'] <= End) \n",
    "XRP = XRP_coin.loc[XRP_data]\n",
    "XRP"
   ]
  },
  {
   "cell_type": "code",
   "execution_count": null,
   "metadata": {},
   "outputs": [],
   "source": [
    "XRP.groupby(\"Date\").mean()"
   ]
  },
  {
   "cell_type": "code",
   "execution_count": null,
   "metadata": {},
   "outputs": [],
   "source": [
    "#USDCoin_coin - USDC\n",
    "USDCoin_coin=USDCoin_coin.drop(columns = {'SNo', 'Name'})\n",
    "USDCoin_coin['Volume']=USDCoin_coin['Volume'].apply(lambda x:'{:.2f}'.format(x))\n",
    "USDCoin_coin['Marketcap']=USDCoin_coin['Marketcap'].apply(lambda x:'{:.2f}'.format(x))\n",
    "USDCoin_coin[['High', 'Low', 'Open', 'Close']]= USDCoin_coin[['High', 'Low', 'Open', 'Close']].round(2)"
   ]
  },
  {
   "cell_type": "code",
   "execution_count": null,
   "metadata": {},
   "outputs": [],
   "source": [
    "Start = '2019-06-11'\n",
    "End = '2021-06-21'\n",
    "USDCoin_coin['Date']= pd.to_datetime(USDCoin_coin['Date'], dayfirst=True)\n",
    "USDCoin_coin ['Date'] = pd.to_datetime(USDCoin_coin['Date'].dt.strftime('%Y-%m'))\n",
    "USDC_data = (USDCoin_coin['Date']> Start) & (USDCoin_coin['Date'] <= End) \n",
    "USDC = USDCoin_coin.loc[USDC_data]\n",
    "USDC"
   ]
  },
  {
   "cell_type": "code",
   "execution_count": null,
   "metadata": {},
   "outputs": [],
   "source": [
    "USDC.groupby(\"Date\").mean()"
   ]
  },
  {
   "cell_type": "code",
   "execution_count": null,
   "metadata": {},
   "outputs": [],
   "source": [
    "#Polkadot_coin - DOT\n",
    "Polkadot_coin=Polkadot_coin.drop(columns = {'SNo', 'Name'})\n",
    "Polkadot_coin['Volume']=Polkadot_coin['Volume'].apply(lambda x:'{:.2f}'.format(x))\n",
    "Polkadot_coin['Marketcap']=Polkadot_coin['Marketcap'].apply(lambda x:'{:.2f}'.format(x))\n",
    "Polkadot_coin[['High', 'Low', 'Open', 'Close']]= Polkadot_coin[['High', 'Low', 'Open', 'Close']].round(2)"
   ]
  },
  {
   "cell_type": "code",
   "execution_count": null,
   "metadata": {},
   "outputs": [],
   "source": [
    "Start = '2019-06-11'\n",
    "End = '2021-06-21'\n",
    "Polkadot_coin['Date']= pd.to_datetime(Polkadot_coin['Date'], dayfirst=True)\n",
    "Polkadot_coin ['Date'] = pd.to_datetime(Polkadot_coin['Date'].dt.strftime('%Y-%m'))\n",
    "\n",
    "DOT_data = (Polkadot_coin['Date']> Start) & (Polkadot_coin['Date'] <= End) \n",
    "DOT = Polkadot_coin.loc[DOT_data]\n",
    "DOT"
   ]
  },
  {
   "cell_type": "code",
   "execution_count": null,
   "metadata": {},
   "outputs": [],
   "source": [
    "DOT.groupby(\"Date\").mean()"
   ]
  },
  {
   "cell_type": "code",
   "execution_count": null,
   "metadata": {},
   "outputs": [],
   "source": [
    "#Uniswap_coin - UNI\n",
    "Uniswap_coin=Uniswap_coin.drop(columns = {'SNo', 'Name'})\n",
    "Uniswap_coin['Volume']=Uniswap_coin['Volume'].apply(lambda x:'{:.2f}'.format(x))\n",
    "Uniswap_coin['Marketcap']=Uniswap_coin['Marketcap'].apply(lambda x:'{:.2f}'.format(x))\n",
    "Uniswap_coin[['High', 'Low', 'Open', 'Close']]= Uniswap_coin[['High', 'Low', 'Open', 'Close']].round(2)"
   ]
  },
  {
   "cell_type": "code",
   "execution_count": null,
   "metadata": {},
   "outputs": [],
   "source": [
    "Start = '2019-06-11'\n",
    "End = '2021-06-21'\n",
    "Uniswap_coin['Date']= pd.to_datetime(Uniswap_coin['Date'], dayfirst=True)\n",
    "Uniswap_coin ['Date'] = pd.to_datetime(Uniswap_coin['Date'].dt.strftime('%Y-%m'))\n",
    "\n",
    "UNI_data = (Uniswap_coin['Date']> Start) & (Uniswap_coin['Date'] <= End) \n",
    "UNI = Uniswap_coin.loc[UNI_data]\n",
    "UNI"
   ]
  },
  {
   "cell_type": "code",
   "execution_count": null,
   "metadata": {},
   "outputs": [],
   "source": [
    "UNI.groupby(\"Date\").mean()"
   ]
  },
  {
   "cell_type": "code",
   "execution_count": null,
   "metadata": {},
   "outputs": [],
   "source": []
  },
  {
   "cell_type": "code",
   "execution_count": null,
   "metadata": {},
   "outputs": [],
   "source": []
  },
  {
   "cell_type": "code",
   "execution_count": null,
   "metadata": {},
   "outputs": [],
   "source": []
  },
  {
   "cell_type": "code",
   "execution_count": null,
   "metadata": {},
   "outputs": [],
   "source": []
  },
  {
   "cell_type": "code",
   "execution_count": null,
   "metadata": {},
   "outputs": [],
   "source": []
  },
  {
   "cell_type": "code",
   "execution_count": null,
   "metadata": {},
   "outputs": [],
   "source": []
  },
  {
   "cell_type": "code",
   "execution_count": null,
   "metadata": {},
   "outputs": [],
   "source": []
  }
 ],
 "metadata": {
  "kernelspec": {
   "display_name": "Python 3",
   "language": "python",
   "name": "python3"
  },
  "language_info": {
   "codemirror_mode": {
    "name": "ipython",
    "version": 3
   },
   "file_extension": ".py",
   "mimetype": "text/x-python",
   "name": "python",
   "nbconvert_exporter": "python",
   "pygments_lexer": "ipython3",
   "version": "3.8.5"
  }
 },
 "nbformat": 4,
 "nbformat_minor": 4
}
